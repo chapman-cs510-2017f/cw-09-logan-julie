{
 "cells": [
  {
   "cell_type": "markdown",
   "metadata": {
    "collapsed": false
   },
   "source": [
    "Name: Julie Gardner-Hoag, Logan Gantner <br>\n",
    "Student ID: 2299636, 2307470 <br>\n",
    "Email: gardnerh@chapman.edu, gantner@chapman.edu <br>\n",
    "Course: CS510 Fall 2017 <br>\n",
    "Assignment: Classwork 9 <br>"
   ]
  },
  {
   "cell_type": "markdown",
   "metadata": {
    "collapsed": false
   },
   "source": [
    "The following algorithm for computing n!: <br>\n",
    "1. Start by defining fac as n\n",
    "2. Decrease n by 1\n",
    "3. Multiply fac by n-1\n",
    "4. Repeat until n is less than or equal to 0"
   ]
  },
  {
   "cell_type": "markdown",
   "metadata": {
    "collapsed": false
   },
   "source": [
    "The two issues in the function definition are:\n",
    "1. The factorial will always return 0 because n gets decremented before being multiplied\n",
    "2. 0! will be n by default because of the initilization of n."
   ]
  },
  {
   "cell_type": "markdown",
   "metadata": {
    "collapsed": false
   },
   "source": [
    "These problems can be fixed by:\n",
    "1. Initilizing fac to be 1\n",
    "2. Switch the order of the decrement and update lines"
   ]
  }
 ],
 "metadata": {
  "kernelspec": {
   "display_name": "Python 3 (Anaconda)",
   "language": "python",
   "name": "anaconda3"
  },
  "language_info": {
   "codemirror_mode": {
    "name": "ipython",
    "version": 3
   },
   "file_extension": ".py",
   "mimetype": "text/x-python",
   "name": "python",
   "nbconvert_exporter": "python",
   "pygments_lexer": "ipython3",
   "version": "3.5.4"
  }
 },
 "nbformat": 4,
 "nbformat_minor": 0
}