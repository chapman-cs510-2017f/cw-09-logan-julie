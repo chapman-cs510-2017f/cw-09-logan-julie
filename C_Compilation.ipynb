{
 "cells": [
  {
   "cell_type": "markdown",
   "metadata": {
    "collapsed": false
   },
   "source": [
    "Name: Julie Gardner-Hoag, Logan Gantner <br>\n",
    "Student ID: 2299636, 2307470 <br>\n",
    "Email: gardnerh@chapman.edu, gantner@chapman.edu <br>\n",
    "Course: CS510 Fall 2017 <br>\n",
    "Assignment: Classwork 9 <br>"
   ]
  },
  {
   "cell_type": "markdown",
   "metadata": {
    "collapsed": false
   },
   "source": [
    "The purpose of a Makefile is to build and run compiled languages, like C and C++. It automates a lot of the intilization steps for running C programs."
   ]
  },
  {
   "cell_type": "markdown",
   "metadata": {
    "collapsed": false
   },
   "source": [
    "The code is organized with a header, a makefile, a src file and an object file. This is a reasonable structure because all of the related and necessary files are kept in the same directory."
   ]
  },
  {
   "cell_type": "markdown",
   "metadata": {
    "collapsed": false
   },
   "source": [
    "A header file contains all of the functions' signatures across all of the source files. It's a quick look at the functionality of the scripts."
   ]
  },
  {
   "cell_type": "markdown",
   "metadata": {
    "collapsed": false
   },
   "source": [
    "A source file contains all of the code that is executed by the compiler."
   ]
  },
  {
   "cell_type": "markdown",
   "metadata": {
    "collapsed": false
   },
   "source": [
    "An object file links source files that depend on one another."
   ]
  },
  {
   "cell_type": "markdown",
   "metadata": {
    "collapsed": false
   },
   "source": [
    "Compiling is converting readable code into language that the computer can interpret."
   ]
  },
  {
   "cell_type": "markdown",
   "metadata": {
    "collapsed": false
   },
   "source": [
    "Linking refers to the creation of a single executable file from multiple object files."
   ]
  }
 ],
 "metadata": {
  "kernelspec": {
   "display_name": "Python 3 (Anaconda)",
   "language": "python",
   "name": "anaconda3"
  },
  "language_info": {
   "codemirror_mode": {
    "name": "ipython",
    "version": 3
   },
   "file_extension": ".py",
   "mimetype": "text/x-python",
   "name": "python",
   "nbconvert_exporter": "python",
   "pygments_lexer": "ipython3",
   "version": "3.5.4"
  }
 },
 "nbformat": 4,
 "nbformat_minor": 0
}